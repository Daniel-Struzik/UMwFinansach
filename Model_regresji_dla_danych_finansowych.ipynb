{
  "nbformat": 4,
  "nbformat_minor": 0,
  "metadata": {
    "colab": {
      "name": "Model regresji dla danych finansowych",
      "provenance": [],
      "collapsed_sections": []
    },
    "kernelspec": {
      "name": "python3",
      "display_name": "Python 3"
    },
    "language_info": {
      "name": "python"
    }
  },
  "cells": [
    {
      "cell_type": "markdown",
      "source": [
        "**Ustawienie środowiska**\n",
        "\n",
        "Na początku wczytaliśmy potrzebne biblioteki i sprawdziliśmy ich wersje.\n"
      ],
      "metadata": {
        "id": "eRF-JvCnxV83"
      }
    },
    {
      "cell_type": "code",
      "execution_count": null,
      "metadata": {
        "colab": {
          "base_uri": "https://localhost:8080/"
        },
        "id": "SZGyZHvAw3zY",
        "outputId": "ceb4860e-8a8b-4cf2-c282-81e1a45ea0a7"
      },
      "outputs": [
        {
          "output_type": "stream",
          "name": "stdout",
          "text": [
            "scipy: 1.4.1\n",
            "numpy: 1.21.5\n",
            "matplotlib: 3.2.2\n",
            "pandas: 1.3.5\n",
            "statsmodels: 0.10.2\n",
            "sklearn: 1.0.2\n"
          ]
        }
      ],
      "source": [
        "# scipy\n",
        "import scipy\n",
        "print('scipy: %s' % scipy.__version__)\n",
        "# numpy\n",
        "import numpy\n",
        "print('numpy: %s' % numpy.__version__)\n",
        "# matplotlib\n",
        "import matplotlib\n",
        "print('matplotlib: %s' % matplotlib.__version__)\n",
        "# pandas\n",
        "import pandas as pd\n",
        "print('pandas: %s' % pd.__version__)\n",
        "# statsmodels\n",
        "import statsmodels\n",
        "print('statsmodels: %s' % statsmodels.__version__)\n",
        "# scikit-learn\n",
        "import sklearn\n",
        "print('sklearn: %s' % sklearn.__version__)"
      ]
    },
    {
      "cell_type": "markdown",
      "source": [
        "W kolejnym korku wczytaliśmy dane z pliku csv. Wynikiem kodu jest prezentacja danych w formie tabelki jako Time-Series. Data jest tutaj indeksem."
      ],
      "metadata": {
        "id": "IUfFFBpjH2GI"
      }
    },
    {
      "cell_type": "code",
      "source": [
        "from pandas import read_csv\n",
        "from matplotlib import pyplot\n",
        "series = read_csv('convictions_returns.csv', parse_dates=['date']) #, index_col='date')\n",
        "\n",
        "print(series)\n",
        "\n",
        "# series['Y'] = series.Close/series.Open*100-100\n",
        "# series['C'] = series.conviction/series.conviction[-1]*100-100\n",
        "# X = series[(series.symbol == \"SHW\")]\n",
        "# X = X[['Y','C']]\n",
        "# print(X.describe())\n",
        "# X.plot()\n",
        "# pyplot.show()\n",
        "# print(X)"
      ],
      "metadata": {
        "colab": {
          "base_uri": "https://localhost:8080/"
        },
        "id": "eM9MmtrtxkgG",
        "outputId": "3490ea65-5345-4f63-8819-ecc9077423d5"
      },
      "execution_count": null,
      "outputs": [
        {
          "output_type": "stream",
          "name": "stdout",
          "text": [
            "       Unnamed: 0       date symbol                  sector company_id  \\\n",
            "0               0 2004-02-11     SU         Energy Minerals   GN63J3-R   \n",
            "1               1 2004-02-11    GGG  Producer Manufacturing   H5490W-R   \n",
            "2               3 2004-02-11    CWT               Utilities   GSWXLY-R   \n",
            "3               4 2004-02-11    BLL      Process Industries   VFT0VQ-R   \n",
            "4               5 2004-02-11    APA         Energy Minerals   DMX4QY-R   \n",
            "...           ...        ...    ...                     ...        ...   \n",
            "30679       37275 2022-01-26  EMRAF               Utilities   SRLHZS-R   \n",
            "30680       37276 2022-01-26    IEX  Producer Manufacturing   KFJFWS-R   \n",
            "30681       37277 2022-01-26    EXR                 Finance   XD67LR-R   \n",
            "30682       37278 2022-01-26  LIFZF     Non-Energy Minerals   Q404Y1-R   \n",
            "30683       37279 2022-01-26   VALU     Technology Services   V3RWFQ-R   \n",
            "\n",
            "       conviction        Open        High         Low       Close   Adj Close  \\\n",
            "0        0.953727   13.300000   13.365000   13.130000   13.285000    8.828085   \n",
            "1        0.952753    9.282222    9.406667    9.244444    9.388889    6.480958   \n",
            "2        0.934181   14.650000   14.720000   14.550000   14.720000    9.054353   \n",
            "3        0.922862    8.047500    8.127500    8.007500    8.095000    6.898144   \n",
            "4        0.912117   39.549999   39.980000   39.119999   39.830002   31.912367   \n",
            "...           ...         ...         ...         ...         ...         ...   \n",
            "30679    0.696507   47.630001   47.630001   46.810001   46.810001   46.155472   \n",
            "30680    0.694893  216.729996  220.119995  209.580002  211.679993  211.679993   \n",
            "30681    0.692637  196.119995  199.050003  191.630005  193.050003  193.050003   \n",
            "30682    0.692350   30.129999   30.629999   30.070000   30.110001   30.110001   \n",
            "30683    0.692210   57.730000   61.790001   55.599998   56.980000   56.741272   \n",
            "\n",
            "          Volume  \n",
            "0      1280800.0  \n",
            "1       518400.0  \n",
            "2        45800.0  \n",
            "3      3648800.0  \n",
            "4      2063800.0  \n",
            "...          ...  \n",
            "30679     4700.0  \n",
            "30680   459400.0  \n",
            "30681   831800.0  \n",
            "30682     7000.0  \n",
            "30683    39800.0  \n",
            "\n",
            "[30684 rows x 12 columns]\n"
          ]
        }
      ]
    },
    {
      "cell_type": "markdown",
      "source": [
        "Tworzymy RoR dla każdej spółki (po symbolu) pomiędzy kolejnymi odczytami Adj Close."
      ],
      "metadata": {
        "id": "3go6l7Y7TgA2"
      }
    },
    {
      "cell_type": "code",
      "source": [
        "series.sort_values(['symbol','date'], inplace = True, ascending=[True, False])\n",
        "\n",
        "# Dlaczego Adj Close? https://www.codingfinance.com/post/2018-04-03-calc-returns-py/\n",
        "\n",
        "series['RoR'] = (series.groupby('symbol')['Adj Close'].apply(pd.Series.pct_change) + 1)\n",
        "\n",
        "print(series)"
      ],
      "metadata": {
        "colab": {
          "base_uri": "https://localhost:8080/"
        },
        "id": "eUz-HEPLOkL1",
        "outputId": "8a37325d-5b81-40fa-cbee-6a71d95b84b3"
      },
      "execution_count": null,
      "outputs": [
        {
          "output_type": "stream",
          "name": "stdout",
          "text": [
            "       Unnamed: 0       date symbol             sector company_id  conviction  \\\n",
            "26111       32629 2019-10-23      A  Health Technology   FWHC5K-R    0.512520   \n",
            "26026       32544 2019-10-09      A  Health Technology   FWHC5K-R    0.514559   \n",
            "25877       32390 2019-09-11      A  Health Technology   FWHC5K-R    0.514137   \n",
            "25800       32311 2019-08-28      A  Health Technology   FWHC5K-R    0.504983   \n",
            "22927       29143 2018-02-21      A  Health Technology   FWHC5K-R    0.799274   \n",
            "...           ...        ...    ...                ...        ...         ...   \n",
            "22721       28924 2018-01-10    ZTS  Health Technology   TW6KKV-R    0.726495   \n",
            "22671       28872 2017-12-27    ZTS  Health Technology   TW6KKV-R    0.621940   \n",
            "22594       28791 2017-12-13    ZTS  Health Technology   TW6KKV-R    0.621152   \n",
            "22519       28712 2017-11-29    ZTS  Health Technology   TW6KKV-R    0.621809   \n",
            "22438       28628 2017-11-15    ZTS  Health Technology   TW6KKV-R    0.620609   \n",
            "\n",
            "            Open       High        Low      Close  Adj Close     Volume  \\\n",
            "26111  75.019997  75.889999  74.680000  74.980003  73.820618  1778300.0   \n",
            "26026  73.050003  73.839996  72.639999  73.470001  72.333961  1499700.0   \n",
            "25877  75.070000  77.010002  75.070000  76.989998  75.636780  2805500.0   \n",
            "25800  69.260002  70.260002  68.809998  69.940002  68.710701  1674000.0   \n",
            "22927  71.120003  72.699997  70.970001  71.250000  69.061295  1995600.0   \n",
            "...          ...        ...        ...        ...        ...        ...   \n",
            "22721  74.580002  74.800003  73.279999  73.910004  72.077385  2257200.0   \n",
            "22671  72.589996  72.690002  72.250000  72.449997  70.653587  1159800.0   \n",
            "22594  72.139999  72.989998  72.059998  72.379997  70.585320  1595100.0   \n",
            "22519  71.989998  72.099998  71.279999  71.610001  69.834435  1618400.0   \n",
            "22438  69.690002  70.330002  69.349998  69.620003  67.893761  2075500.0   \n",
            "\n",
            "            RoR  \n",
            "26111       NaN  \n",
            "26026  0.979861  \n",
            "25877  1.045661  \n",
            "25800  0.908430  \n",
            "22927  1.005102  \n",
            "...         ...  \n",
            "22721  0.942023  \n",
            "22671  0.980246  \n",
            "22594  0.999034  \n",
            "22519  0.989362  \n",
            "22438  0.972210  \n",
            "\n",
            "[30684 rows x 13 columns]\n"
          ]
        }
      ]
    },
    {
      "cell_type": "code",
      "source": [
        "import matplotlib.pyplot as plt\n",
        "\n",
        "df = series[['date','symbol','sector','conviction','Adj Close','RoR']]\n",
        "\n",
        "df_ror = df.pivot_table(index='date', columns = 'symbol', values = 'RoR', aggfunc='first')\n",
        "\n",
        "df_ror = df_ror.resample('M').last()\n",
        "\n",
        "print(df_ror)"
      ],
      "metadata": {
        "colab": {
          "base_uri": "https://localhost:8080/"
        },
        "id": "mwygZwjMRK9n",
        "outputId": "ee798857-1013-4dad-f2cd-a1042b4f15ad"
      },
      "execution_count": null,
      "outputs": [
        {
          "output_type": "stream",
          "name": "stdout",
          "text": [
            "symbol       A      AAIC  AAP  AAPL  AAT      AAWW      ABBV  ABC       ABG  \\\n",
            "date                                                                          \n",
            "2004-02-29 NaN  1.002983  NaN   NaN  NaN       NaN       NaN  NaN       NaN   \n",
            "2004-03-31 NaN  1.644799  NaN   NaN  NaN       NaN       NaN  NaN       NaN   \n",
            "2004-04-30 NaN       NaN  NaN   NaN  NaN       NaN       NaN  NaN       NaN   \n",
            "2004-05-31 NaN       NaN  NaN   NaN  NaN       NaN       NaN  NaN       NaN   \n",
            "2004-06-30 NaN       NaN  NaN   NaN  NaN       NaN       NaN  NaN       NaN   \n",
            "...         ..       ...  ...   ...  ...       ...       ...  ...       ...   \n",
            "2021-09-30 NaN       NaN  NaN   NaN  NaN  0.864971       NaN  NaN  0.947210   \n",
            "2021-10-31 NaN       NaN  NaN   NaN  NaN  0.915556       NaN  NaN  1.181504   \n",
            "2021-11-30 NaN       NaN  NaN   NaN  NaN       NaN  1.012423  NaN  1.034013   \n",
            "2021-12-31 NaN       NaN  NaN   NaN  NaN  0.994764  0.962101  NaN  1.024142   \n",
            "2022-01-31 NaN       NaN  NaN   NaN  NaN  1.113775       NaN  NaN       NaN   \n",
            "\n",
            "symbol      ABR  ...  XOXO       XPO  XRAY  XRX  XYL     YLWDF  YUM  ZBRA  ZD  \\\n",
            "date             ...                                                            \n",
            "2004-02-29  NaN  ...   NaN       NaN   NaN  NaN  NaN       NaN  NaN   NaN NaN   \n",
            "2004-03-31  NaN  ...   NaN       NaN   NaN  NaN  NaN       NaN  NaN   NaN NaN   \n",
            "2004-04-30  NaN  ...   NaN       NaN   NaN  NaN  NaN       NaN  NaN   NaN NaN   \n",
            "2004-05-31  NaN  ...   NaN       NaN   NaN  NaN  NaN       NaN  NaN   NaN NaN   \n",
            "2004-06-30  NaN  ...   NaN       NaN   NaN  NaN  NaN       NaN  NaN   NaN NaN   \n",
            "...         ...  ...   ...       ...   ...  ...  ...       ...  ...   ...  ..   \n",
            "2021-09-30  NaN  ...   NaN       NaN   NaN  NaN  NaN       NaN  NaN   NaN NaN   \n",
            "2021-10-31  NaN  ...   NaN  0.955596   NaN  NaN  NaN       NaN  NaN   NaN NaN   \n",
            "2021-11-30  NaN  ...   NaN       NaN   NaN  NaN  NaN  0.955567  NaN   NaN NaN   \n",
            "2021-12-31  NaN  ...   NaN       NaN   NaN  NaN  NaN  0.996828  NaN   NaN NaN   \n",
            "2022-01-31  NaN  ...   NaN       NaN   NaN  NaN  NaN  1.000000  NaN   NaN NaN   \n",
            "\n",
            "symbol      ZTS  \n",
            "date             \n",
            "2004-02-29  NaN  \n",
            "2004-03-31  NaN  \n",
            "2004-04-30  NaN  \n",
            "2004-05-31  NaN  \n",
            "2004-06-30  NaN  \n",
            "...         ...  \n",
            "2021-09-30  NaN  \n",
            "2021-10-31  NaN  \n",
            "2021-11-30  NaN  \n",
            "2021-12-31  NaN  \n",
            "2022-01-31  NaN  \n",
            "\n",
            "[216 rows x 1311 columns]\n"
          ]
        }
      ]
    },
    {
      "cell_type": "markdown",
      "source": [
        "Sprawdziliśmy relację między \"daily returns\", a \"convictions\" - jest ona ujemna, ale pomijalna. Przejdziemy jednak dalej w celu zobrazowania problemu zadania."
      ],
      "metadata": {
        "id": "ZUBFAstZKvPT"
      }
    },
    {
      "cell_type": "code",
      "source": [
        "#@title\n",
        "# plt.xlabel(\"Returns\")\n",
        "# plt.ylabel(\"Convictions' changes\")\n",
        "# plt.title(\"Scatter plot of daily returns and convictions' changes\")\n",
        "# plt.scatter(X['Y'], X['C'])\n",
        "# plt.show()\n",
        "# X.corr()"
      ],
      "metadata": {
        "id": "6lN3FCKNKIZy"
      },
      "execution_count": null,
      "outputs": []
    },
    {
      "cell_type": "markdown",
      "source": [
        "O niskim dopasowanu modelu świadczą również jego statystyki opisowe."
      ],
      "metadata": {
        "id": "-MOYzbhjOwmw"
      }
    },
    {
      "cell_type": "code",
      "source": [
        "#@title\n",
        "import statsmodels.formula.api as smf\n",
        "### Create an instance of the class OLS\n",
        "#slr_sm_model = smf.ols('C ~ Y', data=X)\n",
        "\n",
        "### Fit the model (statsmodels calculates beta_0 and beta_1 here)\n",
        "#slr_sm_model_ko = slr_sm_model.fit()\n",
        "\n",
        "### Summarize the model\n",
        "\n",
        "#print(slr_sm_model_ko.summary()) \n",
        "\n",
        "#param_slr = slr_sm_model_ko.params"
      ],
      "metadata": {
        "id": "kwDgfa-WLO-H"
      },
      "execution_count": null,
      "outputs": []
    },
    {
      "cell_type": "markdown",
      "source": [
        "Prosta regresja liniowa wygląda jednak w następujący spośob."
      ],
      "metadata": {
        "id": "R1tYDEZOOIs7"
      }
    },
    {
      "cell_type": "code",
      "source": [
        "#@title\n",
        "#plt.xlabel(\"Returns\")\n",
        "#plt.ylabel(\"Convictions' changes\")\n",
        "#plt.title(\"Simple linear regression model\")\n",
        "#plt.scatter(X['Y'],X['C'])\n",
        "#plt.plot(X['Y'], param_slr.Intercept+param_slr.Y * X['Y'],\n",
        "#         label='Y={:.4f}+{:.4f}X'.format(param_slr.Intercept, param_slr.Y), \n",
        "#         color='red')\n",
        "#plt.legend()\n",
        "#plt.show()"
      ],
      "metadata": {
        "id": "aC790uLMNBSM"
      },
      "execution_count": null,
      "outputs": []
    },
    {
      "cell_type": "markdown",
      "source": [
        "**Drugie podejście**\n",
        "\n",
        "Model z wykorzystaniem biblioteki *sklearn*."
      ],
      "metadata": {
        "id": "1jM8gaINOUD9"
      }
    },
    {
      "cell_type": "code",
      "source": [
        "#@title\n",
        "#X = X.values\n",
        "#X.conviction = X.conviction.astype('float32')\n",
        "#X = series\n",
        "#split_point = int(0.9*len(X))\n",
        "#dataset, validation = X[0:split_point], X[split_point:]\n",
        "\n",
        "#print('Dataset %d, Validation %d' % (len(dataset), len(validation)))\n",
        "#print(dataset)"
      ],
      "metadata": {
        "id": "nkmap0WCxF4L"
      },
      "execution_count": null,
      "outputs": []
    },
    {
      "cell_type": "markdown",
      "source": [
        "Zbiór podzieliliśmy na trenujący i testowy w celu sprawdzenia dopasowania i potencjału predykcyjnego modelu."
      ],
      "metadata": {
        "id": "OxndB-H6I7me"
      }
    },
    {
      "cell_type": "code",
      "source": [
        "import matplotlib.pyplot as plt\n",
        "import numpy as np\n",
        "from sklearn import linear_model, metrics\n",
        "from sklearn.model_selection import train_test_split\n",
        "\n",
        "x,y=df.conviction, df.RoR\n",
        "X_train, X_test, y_train, y_test = train_test_split(x, y, test_size=0.4)\n",
        "print(y_train)"
      ],
      "metadata": {
        "colab": {
          "base_uri": "https://localhost:8080/"
        },
        "id": "3KoMvM4V39vB",
        "outputId": "1f297e0a-28a7-4797-8ff9-540cc7e355a3"
      },
      "execution_count": null,
      "outputs": [
        {
          "output_type": "stream",
          "name": "stdout",
          "text": [
            "8655     1.023605\n",
            "15174    1.029757\n",
            "14596    0.993929\n",
            "7491     0.891981\n",
            "7778     0.938841\n",
            "           ...   \n",
            "2789     0.924519\n",
            "12165    0.961390\n",
            "29349    0.963992\n",
            "15089    1.036187\n",
            "29313    0.991237\n",
            "Name: RoR, Length: 18410, dtype: float64\n"
          ]
        }
      ]
    },
    {
      "cell_type": "code",
      "source": [
        "# https://towardsdatascience.com/how-to-build-a-regression-model-in-python-9a10685c7f09\n",
        "\n",
        "from sklearn import linear_model\n",
        "from sklearn.metrics import mean_squared_error, r2_score\n",
        "\n",
        "model = linear_model.LinearRegression()\n",
        "model.fit(X_train, y_train)\n",
        "\n",
        "Y_pred_train = model.predict(X_train)\n",
        "print('Coefficients:', model.coef_)\n",
        "print('Intercept:', model.intercept_)\n",
        "print('Mean squared error (MSE): %.2f'\n",
        "      % mean_squared_error(y_train, Y_pred_train))\n",
        "print('Coefficient of determination (R^2): %.2f'\n",
        "      % r2_score(y_train, Y_pred_train))\n",
        "\n",
        "Y_pred_test = model.predict(X_test)\n",
        "print('Coefficients:', model.coef_)\n",
        "print('Intercept:', model.intercept_)\n",
        "print('Mean squared error (MSE): %.2f'\n",
        "      % mean_squared_error(y_test, Y_pred_test))\n",
        "print('Coefficient of determination (R^2): %.2f'\n",
        "      % r2_score(y_test, Y_pred_test))"
      ],
      "metadata": {
        "id": "VV5ov-8C4KNu"
      },
      "execution_count": null,
      "outputs": []
    },
    {
      "cell_type": "markdown",
      "source": [
        "Do realizacji modelu stworzyliśmy obiekt regresji liniowej i trenowaliśmy go na przygotowanych zbiorach trenujących. Na wyjściu przedstawiliśmy współczynniki regresji i wynik wariancji."
      ],
      "metadata": {
        "id": "u2wg4-zbJKp6"
      }
    }
  ]
}