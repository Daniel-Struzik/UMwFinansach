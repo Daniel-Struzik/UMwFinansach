{
  "cells": [
    {
      "cell_type": "markdown",
      "metadata": {
        "id": "6otN3y5wd5Ll"
      },
      "source": [
        "Develop,train,test and cross-validate three alternative models"
      ]
    },
    {
      "cell_type": "code",
      "execution_count": null,
      "metadata": {
        "id": "Mov_HPigdwDK"
      },
      "outputs": [],
      "source": [
        "import pandas as pd\n",
        "import numpy as np\n",
        "%matplotlib inline\n",
        "import matplotlib. pyplot as plt\n",
        "import matplotlib\n",
        "from sklearn. preprocessing import MinMaxScaler\n",
        "from keras. layers import LSTM, Dense, Dropout\n",
        "from sklearn.model_selection import TimeSeriesSplit\n",
        "from sklearn.metrics import mean_squared_error, r2_score\n",
        "import matplotlib. dates as mandates\n",
        "from sklearn. preprocessing import MinMaxScaler\n",
        "from sklearn import linear_model\n",
        "from keras. models import Sequential\n",
        "from keras. layers import Dense\n",
        "import keras. backend as K\n",
        "from keras. callbacks import EarlyStopping\n",
        "from tensorflow.keras.optimizers import Adam\n",
        "from keras. models import load_model\n",
        "from keras. layers import LSTM\n",
        "from keras. utils.vis_utils import plot_model"
      ]
    },
    {
      "cell_type": "code",
      "execution_count": null,
      "metadata": {
        "id": "1mf8kuZkfCf4"
      },
      "outputs": [],
      "source": [
        "from pandas import read_csv\n",
        "from matplotlib import pyplot\n",
        "series = read_csv('convictions_returns.csv')#, parse_dates=['date']), index_col='date')\n",
        "\n",
        "series['RoR_date'] = (series.groupby('symbol')['adj_close_date'].apply(pd.Series.pct_change) + 1)\n",
        "series['RoR_mtd'] = (series.groupby('symbol')['adj_close_mtd'].apply(pd.Series.pct_change) + 1)\n",
        "series['RoR_qtd'] = (series.groupby('symbol')['adj_close_qtd'].apply(pd.Series.pct_change) + 1)\n",
        "series['RoR_htd'] = (series.groupby('symbol')['adj_close_htd'].apply(pd.Series.pct_change) + 1)\n",
        "series['RoR_ytd'] = (series.groupby('symbol')['adj_close_ytd'].apply(pd.Series.pct_change) + 1)"
      ]
    },
    {
      "cell_type": "code",
      "execution_count": null,
      "metadata": {
        "id": "-yO-fB661ti5"
      },
      "outputs": [],
      "source": [
        "#series_plot = series.groupby('symbol')\n",
        "#series_plot['adj_close_ytd'].plot()\n",
        "#series.tail(50)\n",
        "\n",
        "df = series.dropna()\n",
        "#df"
      ]
    },
    {
      "cell_type": "markdown",
      "source": [
        "Podział zbioru danych na wektor ze zmiennymi objaśnianymi i wektor ze zmiennymi objaśniającymi. Najpierw wyszczególniamy kolumny , które weźmiemy opd uwagę w dalszym badaniu."
      ],
      "metadata": {
        "id": "vBVHgcgzExMF"
      }
    },
    {
      "cell_type": "code",
      "execution_count": null,
      "metadata": {
        "id": "xmJNRYld-FiI"
      },
      "outputs": [],
      "source": [
        "# Dividing data into Y and X\n",
        "# Set Target Variable\n",
        "#Y_col = ['adj_close_date','adj_close_mtd','adj_close_qtd','adj_close_htd','adj_close_ytd']\n",
        "Y_col = ['RoR_date','RoR_mtd','RoR_qtd','RoR_htd','RoR_ytd']\n",
        "Others = ['Unnamed: 0','symbol','sector','date']\n",
        "all_column = series.columns\n",
        "X_col = np.setdiff1d(all_column, Y_col)\n",
        "X_col = np.setdiff1d(X_col, Others)\n"
      ]
    },
    {
      "cell_type": "markdown",
      "source": [
        "Następnie dzielimy zbiór danych na potrzebne części.\n",
        "https://machinelearningmastery.com/time-series-prediction-lstm-recurrent-neural-networks-python-keras/"
      ],
      "metadata": {
        "id": "sbtF1hoZFF1k"
      }
    },
    {
      "cell_type": "code",
      "execution_count": null,
      "metadata": {
        "id": "nlOupw2hGcaR"
      },
      "outputs": [],
      "source": [
        "Y_name = Y_col[2] #Y jest wybieralne \n",
        "\n",
        "#df=series\n",
        "Y = pd.DataFrame(df[Y_name]) \n",
        "X = pd.DataFrame(df[X_col])\n",
        "\n",
        "# normalize the dataset\n",
        "scaler = MinMaxScaler(feature_range=(0, 1))\n",
        "Y = scaler.fit_transform(Y)\n",
        "X = scaler.fit_transform(X)\n"
      ]
    },
    {
      "cell_type": "code",
      "execution_count": null,
      "metadata": {
        "id": "IRM2A8Qz2qKJ"
      },
      "outputs": [],
      "source": [
        "#Splitting to Training set and Test set\n",
        "# timesplit= TimeSeriesSplit(n_splits=10)\n",
        "# for train_index, test_index in timesplit.split(X):\n",
        "#        X_train, X_test = X[:len(train_index)], X[len(train_index): (len(train_index)+len(test_index))]\n",
        "#        y_train, y_test = Y[:len(train_index)].values.ravel(), Y[len(train_index): (len(train_index)+len(test_index))].values.ravel()"
      ]
    },
    {
      "cell_type": "markdown",
      "source": [
        "Poniżej realizujemy podział zbiorów na uczące i testowe."
      ],
      "metadata": {
        "id": "n9cYPbK8FK1B"
      }
    },
    {
      "cell_type": "code",
      "execution_count": null,
      "metadata": {
        "id": "7I70PH28aIC0"
      },
      "outputs": [],
      "source": [
        "from sklearn.model_selection import train_test_split\n",
        "X_train, X_test, y_train, y_test = train_test_split(X, Y, test_size=0.3, random_state = 23, shuffle = True)"
      ]
    },
    {
      "cell_type": "markdown",
      "source": [
        "Realizacja regresji liniowej nr 1."
      ],
      "metadata": {
        "id": "Mr29UHGnFO6w"
      }
    },
    {
      "cell_type": "code",
      "execution_count": 34,
      "metadata": {
        "colab": {
          "base_uri": "https://localhost:8080/",
          "height": 432
        },
        "id": "xgrnFGMclqr6",
        "outputId": "6c276b6e-8ac0-4c12-ccd4-134d94c4c781"
      },
      "outputs": [
        {
          "output_type": "stream",
          "name": "stdout",
          "text": [
            "Score:  -2.3355480527316378e+21\n",
            "Weights:  [[ 3.63487723e+10 -1.05650682e+10  3.87748772e+09 -6.29789081e+09\n",
            "  -2.53531492e+10 -4.34058678e-01  1.41104169e-02 -3.21557542e+00\n",
            "  -2.76787734e-03  1.37810933e-02 -4.00701245e-03  9.35075668e-01\n",
            "   6.64103704e-03 -1.08383073e+00  4.37946414e+00 -2.38084363e-01\n",
            "   1.13906288e+00 -2.67001987e-03 -1.49029076e+00  7.22670555e-03\n",
            "   6.82234764e-04  1.59165859e-01 -1.17194057e-02  0.00000000e+00\n",
            "   1.98364258e-03]]\n",
            "RMSE :  2001491805.849590\n"
          ]
        },
        {
          "output_type": "display_data",
          "data": {
            "text/plain": [
              "<Figure size 432x288 with 1 Axes>"
            ],
            "image/png": "[encoded data removed]"
          },
          "metadata": {
            "needs_background": "light"
          }
        }
      ],
      "source": [
        "from sklearn.linear_model import LinearRegression\n",
        "\n",
        "lineReg = LinearRegression()\n",
        "lineReg.fit(X_train, y_train)\n",
        "print('Score: ', lineReg.score(X_test, y_test))\n",
        "print('Weights: ', lineReg.coef_)\n",
        "\n",
        "Y_pred_test = lineReg.predict(X_test)\n",
        "rmse = np.sqrt(MSE(y_test, Y_pred_test))\n",
        "print(\"RMSE : % f\" %(rmse))\n",
        "\n",
        "plt.plot(lineReg.predict(X_test))\n",
        "plt.plot(y_test)\n",
        "plt.show()"
      ]
    },
    {
      "cell_type": "markdown",
      "source": [
        "Realizacja regresji liniowej nr 2."
      ],
      "metadata": {
        "id": "vnBZKbMVFeSZ"
      }
    },
    {
      "cell_type": "code",
      "source": [
        "#@title\n",
        "# Import the required libraries:\n",
        "import pandas as pd\n",
        "import numpy as np\n",
        "import matplotlib.pyplot as plt\n",
        "from sklearn import linear_model\n",
        "\n",
        "# Dividing data into Y and X\n",
        "# Set Target Variable\n",
        "Y_col = ['adj_close_date','adj_close_mtd','adj_close_qtd','adj_close_htd','adj_close_ytd']\n",
        "Others = ['Unnamed: 0','symbol','sector','date']\n",
        "all_column = series.columns\n",
        "X_col = numpy.setdiff1d(all_column, Y_col)\n",
        "X_col = numpy.setdiff1d(X_col, Others)\n",
        "\n",
        "data = df\n",
        "# Consider features we want to work on:\n",
        "X = data[X_col]\n",
        "Y = data['adj_close_date']\n",
        "# Generating training and testing data from our data:\n",
        "# We are using 80% data for training.\n",
        "train = data[:(int((len(data)*0.8)))]\n",
        "test = data[(int((len(data)*0.8))):]\n",
        "#Modeling:\n",
        "#Using sklearn package to model data :\n",
        "regr = linear_model.LinearRegression()\n",
        "train_x = np.array(train[X_col])\n",
        "train_y = np.array(train[Y_col])\n",
        "\n",
        "\n",
        "regr.fit(train_x,train_y)\n",
        "test_x = np.array(test[X_col])\n",
        "test_y = np.array(test[Y_col])\n",
        "# print the coefficient values:\n",
        "#coeff_data = pd.DataFrame(regr.coef_ , X.columns , columns=['Coefficients'])\n",
        "#coeff_data\n",
        "#Now let’s do prediction of data:\n",
        "Y_pred = regr.predict(test_x)\n",
        "# Check accuracy:\n",
        "from sklearn.metrics import r2_score\n",
        "R = r2_score(test_y , Y_pred)\n",
        "print ('R²:',R)\n"
      ],
      "metadata": {
        "colab": {
          "base_uri": "https://localhost:8080/"
        },
        "id": "KU_Vi8oHC4VZ",
        "outputId": "54075683-7ab0-4848-c2ac-c9e043c8350a",
        "cellView": "form"
      },
      "execution_count": null,
      "outputs": [
        {
          "output_type": "stream",
          "name": "stdout",
          "text": [
            "R²: -1.831762022218026e+43\n"
          ]
        }
      ]
    },
    {
      "cell_type": "markdown",
      "source": [
        "Realizacja regresji liniowej nr 3."
      ],
      "metadata": {
        "id": "HHn_4DiAFhAl"
      }
    },
    {
      "cell_type": "code",
      "source": [
        "from sklearn import linear_model\n",
        "from sklearn.metrics import mean_squared_error, r2_score\n",
        "\n",
        "model = linear_model.LinearRegression()\n",
        "X_train = pd.DataFrame(X_train)\n",
        "y_train = pd.DataFrame(y_train)\n",
        "\n",
        "model.fit(X_train, y_train)\n",
        "\n",
        "Y_pred_train = model.predict(X_train)\n",
        "#print('Coefficients:', model.coef_)\n",
        "#print('Intercept:', model.intercept_)\n",
        "print('Mean squared error (MSE): %.2f'\n",
        "      % mean_squared_error(y_train, Y_pred_train))\n",
        "rmse = np.sqrt(MSE(y_train, Y_pred_train))\n",
        "print(\"RMSE : % f\" %(rmse))\n",
        "#print('Coefficient of determination (R^2): %.2f'\n",
        "#      % r2_score(y_train, Y_pred_train))\n",
        "\n",
        "X_test = pd.DataFrame(X_test)\n",
        "Y_pred_test = model.predict(X_test)\n",
        "#print('Coefficients:', model.coef_)\n",
        "#print('Intercept:', model.intercept_)\n",
        "print('Mean squared error (MSE): %.2f'\n",
        "      % mean_squared_error(y_test, Y_pred_test))\n",
        "rmse = np.sqrt(MSE(y_test, Y_pred_test))\n",
        "print(\"RMSE : % f\" %(rmse))\n",
        "#print('Coefficient of determination (R^2): %.2f'\n",
        "#      % r2_score(y_test, Y_pred_test))"
      ],
      "metadata": {
        "colab": {
          "base_uri": "https://localhost:8080/"
        },
        "id": "-vfEe1nC_Zgd",
        "outputId": "b5915e01-6824-433b-b577-a3c465600d8b"
      },
      "execution_count": null,
      "outputs": [
        {
          "output_type": "stream",
          "name": "stdout",
          "text": [
            "Coefficients: [[-2.33412658e+20  4.69463587e+20  8.00271653e+19 -2.86242187e+23\n",
            "   1.89697867e+18 -2.14520303e+21  1.87324963e+20 -1.32807751e+22\n",
            "   1.73063937e+20 -2.92980351e+20 -1.50646915e+19  1.48734425e+19\n",
            "   9.26826702e+21  8.83565057e+19 -1.47322968e+23  1.94458002e+22\n",
            "   1.21189611e+22 -3.68342768e+14  0.00000000e+00 -6.15174615e+21]]\n",
            "Intercept: [3.41705256e+23]\n",
            "Mean squared error (MSE): 131181326637659779318769931675649179699317342994432.00\n",
            "Coefficient of determination (R^2): 0.00\n",
            "Coefficients: [[-2.33412658e+20  4.69463587e+20  8.00271653e+19 -2.86242187e+23\n",
            "   1.89697867e+18 -2.14520303e+21  1.87324963e+20 -1.32807751e+22\n",
            "   1.73063937e+20 -2.92980351e+20 -1.50646915e+19  1.48734425e+19\n",
            "   9.26826702e+21  8.83565057e+19 -1.47322968e+23  1.94458002e+22\n",
            "   1.21189611e+22 -3.68342768e+14  0.00000000e+00 -6.15174615e+21]]\n",
            "Intercept: [3.41705256e+23]\n",
            "Mean squared error (MSE): 117077212287958047483245705424865746479745073152.00\n",
            "Coefficient of determination (R^2): -9.94\n"
          ]
        }
      ]
    },
    {
      "cell_type": "markdown",
      "source": [
        "Realizacja XGBoosting."
      ],
      "metadata": {
        "id": "dbmRNv3DFnAB"
      }
    },
    {
      "cell_type": "code",
      "source": [
        "# Necessary imports\n",
        "import numpy as np\n",
        "import pandas as pd\n",
        "import xgboost as xg\n",
        "from sklearn.model_selection import train_test_split\n",
        "from sklearn.metrics import mean_squared_error as MSE\n",
        "  \n",
        "# Train and test set are converted to DMatrix objects,\n",
        "# as it is required by learning API.\n",
        "train_dmatrix = xg.DMatrix(data = X_train, label = y_train)\n",
        "test_dmatrix = xg.DMatrix(data = X_test, label = y_test)\n",
        "  \n",
        "# Parameter dictionary specifying base learner\n",
        "param = {\"booster\":\"gblinear\", \"objective\":\"reg:linear\"}\n",
        "  \n",
        "xgb_r = xg.train(params = param, dtrain = train_dmatrix, num_boost_round = 10)\n",
        "pred = xgb_r.predict(test_dmatrix)\n",
        "  \n",
        "# RMSE Computation\n",
        "rmse = np.sqrt(MSE(y_test, pred))\n",
        "print(\"RMSE : % f\" %(rmse))\n",
        "#print('Coefficient of determination (R^2): %.2f'\n",
        "#      % r2_score(y_test, pred))"
      ],
      "metadata": {
        "colab": {
          "base_uri": "https://localhost:8080/"
        },
        "id": "KkEwW_Sz5qmk",
        "outputId": "453f59b7-6c06-4c7b-845d-207fcdb1fc1d"
      },
      "execution_count": 32,
      "outputs": [
        {
          "output_type": "stream",
          "name": "stdout",
          "text": [
            "[21:50:52] WARNING: /workspace/src/objective/regression_obj.cu:152: reg:linear is now deprecated in favor of reg:squarederror.\n",
            "RMSE :  0.041674\n"
          ]
        }
      ]
    },
    {
      "cell_type": "code",
      "source": [
        "#cross validate\n",
        "data_dmatrix = xg.DMatrix(data=X_train, label=y_train)\n",
        "xgb_cv = xg.cv(dtrain=data_dmatrix, params=param, nfold=5, metrics = 'rmse',seed=42) \n",
        "print(xgb_cv)"
      ],
      "metadata": {
        "colab": {
          "base_uri": "https://localhost:8080/"
        },
        "id": "z1rsiT6V_xQz",
        "outputId": "f3d21f53-5cdd-4aa1-b192-e8a347d28a57"
      },
      "execution_count": 33,
      "outputs": [
        {
          "output_type": "stream",
          "name": "stdout",
          "text": [
            "[21:50:54] WARNING: /workspace/src/objective/regression_obj.cu:152: reg:linear is now deprecated in favor of reg:squarederror.\n",
            "[21:50:54] WARNING: /workspace/src/objective/regression_obj.cu:152: reg:linear is now deprecated in favor of reg:squarederror.\n",
            "[21:50:54] WARNING: /workspace/src/objective/regression_obj.cu:152: reg:linear is now deprecated in favor of reg:squarederror.\n",
            "[21:50:54] WARNING: /workspace/src/objective/regression_obj.cu:152: reg:linear is now deprecated in favor of reg:squarederror.\n",
            "[21:50:54] WARNING: /workspace/src/objective/regression_obj.cu:152: reg:linear is now deprecated in favor of reg:squarederror.\n",
            "   train-rmse-mean  train-rmse-std  test-rmse-mean  test-rmse-std\n",
            "0         0.022045        0.001425        0.022180       0.004375\n",
            "1         0.020323        0.000904        0.020274       0.003111\n",
            "2         0.019907        0.000879        0.019850       0.003064\n",
            "3         0.019572        0.000859        0.019508       0.003086\n",
            "4         0.019272        0.000848        0.019201       0.003110\n",
            "5         0.019008        0.000839        0.018933       0.003130\n",
            "6         0.018770        0.000832        0.018690       0.003147\n",
            "7         0.018562        0.000813        0.018474       0.003172\n",
            "8         0.018368        0.000815        0.018283       0.003188\n",
            "9         0.018187        0.000816        0.018102       0.003196\n"
          ]
        }
      ]
    },
    {
      "cell_type": "markdown",
      "source": [
        "Realizacja LSTM."
      ],
      "metadata": {
        "id": "U0uuq56RFshU"
      }
    },
    {
      "cell_type": "code",
      "execution_count": null,
      "metadata": {
        "colab": {
          "base_uri": "https://localhost:8080/"
        },
        "id": "TKCIbvODoznV",
        "outputId": "4a3654f1-87d5-471a-cb82-a76fbe2af8df"
      },
      "outputs": [
        {
          "output_type": "stream",
          "name": "stdout",
          "text": [
            "Epoch 1/10\n",
            "556/556 [==============================] - 38s 56ms/step - loss: 0.0185\n",
            "Epoch 2/10\n",
            "556/556 [==============================] - 32s 58ms/step - loss: 0.0050\n",
            "Epoch 3/10\n",
            "556/556 [==============================] - 32s 58ms/step - loss: 0.0043\n",
            "Epoch 4/10\n",
            "556/556 [==============================] - 32s 57ms/step - loss: 0.0038\n",
            "Epoch 5/10\n",
            "556/556 [==============================] - 32s 57ms/step - loss: 0.0032\n",
            "Epoch 6/10\n",
            "556/556 [==============================] - 32s 57ms/step - loss: 0.0026\n",
            "Epoch 7/10\n",
            "556/556 [==============================] - 33s 59ms/step - loss: 0.0020\n",
            "Epoch 8/10\n",
            "556/556 [==============================] - 32s 57ms/step - loss: 0.0015\n",
            "Epoch 9/10\n",
            "556/556 [==============================] - 32s 57ms/step - loss: 0.0010\n",
            "Epoch 10/10\n",
            "501/556 [==========================>...] - ETA: 3s - loss: 6.9498e-04"
          ]
        }
      ],
      "source": [
        "from keras.models import Sequential\n",
        "from keras.layers import LSTM\n",
        "from keras.layers import Dropout\n",
        "from keras.layers import Dense\n",
        "\n",
        "model = Sequential()\n",
        "model.add(LSTM(units=50,return_sequences=True,input_shape=(X_train.shape[1], 1)))\n",
        "model.add(Dropout(0.2))\n",
        "model.add(LSTM(units=50,return_sequences=True))\n",
        "model.add(Dropout(0.2))\n",
        "model.add(LSTM(units=50,return_sequences=True))\n",
        "model.add(Dropout(0.2))\n",
        "model.add(LSTM(units=50))\n",
        "model.add(Dropout(0.2))\n",
        "model.add(Dense(units=1))\n",
        "model.compile(optimizer='adam',loss='mean_squared_error')\n",
        "model.fit(X_train,y_train,epochs=10,batch_size=32)"
      ]
    },
    {
      "cell_type": "code",
      "source": [
        "import lightgbm as lgb\n",
        "lgbm = lgb.LGBMRegressor()\n",
        "\n",
        "lgbm.fit(X_train, y_train)\n",
        "Y_pred_lgbm = lgbm.predict(X_test)"
      ],
      "metadata": {
        "id": "S3A57UZP9DeS"
      },
      "execution_count": 30,
      "outputs": []
    },
    {
      "cell_type": "code",
      "source": [
        "from sklearn.model_selection import cross_validate\n",
        "lgbm_scores = cross_validate(lgbm, X_train, y_train, scoring='neg_mean_squared_error')\n",
        "\n",
        "print(lgbm_scores)\n",
        "for k, v in lgbm_scores.items():\n",
        "    print(k, v.mean())"
      ],
      "metadata": {
        "colab": {
          "base_uri": "https://localhost:8080/"
        },
        "id": "hKy7q0zi9ud0",
        "outputId": "200a2140-9777-429f-e894-730730ac8a0d"
      },
      "execution_count": 31,
      "outputs": [
        {
          "output_type": "stream",
          "name": "stdout",
          "text": [
            "{'fit_time': array([0.28782678, 0.26724815, 0.27755523, 0.26869154, 0.28563976]), 'score_time': array([0.00635934, 0.00664377, 0.00597954, 0.00631475, 0.0068984 ]), 'test_score': array([-0.00013801, -0.00042009, -0.00015606, -0.00027319, -0.00016887])}\n",
            "fit_time 0.2773922920227051\n",
            "score_time 0.0064391613006591795\n",
            "test_score -0.00023124405583520367\n"
          ]
        }
      ]
    }
  ],
  "metadata": {
    "colab": {
      "name": "Advanced modelling.ipynb",
      "provenance": [],
      "collapsed_sections": []
    },
    "kernelspec": {
      "display_name": "Python 3",
      "name": "python3"
    },
    "language_info": {
      "name": "python"
    }
  },
  "nbformat": 4,
  "nbformat_minor": 0
}