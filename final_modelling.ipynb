{
  "cells": [
    {
      "cell_type": "code",
      "execution_count": 1,
      "metadata": {
        "id": "Mov_HPigdwDK"
      },
      "outputs": [],
      "source": [
        "# Zarządzanie bibliotekami - import wszystkich potrzebnych bibliotek do dalszej analizy\n",
        "\n",
        "import pandas as pd\n",
        "from pandas import read_csv\n",
        "\n",
        "import numpy as np\n",
        "\n",
        "import matplotlib\n",
        "%matplotlib inline\n",
        "import matplotlib. pyplot as plt\n",
        "import matplotlib. dates as mandates\n",
        "from matplotlib import pyplot\n",
        "\n",
        "import xgboost as xg\n",
        "import lightgbm as lgb\n",
        "\n",
        "from sklearn.model_selection import TimeSeriesSplit, train_test_split, cross_validate\n",
        "from sklearn.metrics import mean_squared_error, r2_score\n",
        "from sklearn. preprocessing import MinMaxScaler\n",
        "from sklearn import linear_model\n",
        "from sklearn.linear_model import LinearRegression\n",
        "\n",
        "from keras. layers import LSTM, Dense, Dropout\n",
        "from keras. models import Sequential, load_model\n",
        "import keras. backend as K\n",
        "from keras. callbacks import EarlyStopping\n",
        "from keras. utils.vis_utils import plot_model\n",
        "from tensorflow.keras.optimizers import Adam\n",
        "from keras.wrappers.scikit_learn import KerasRegressor"
      ]
    },
    {
      "cell_type": "code",
      "execution_count": 14,
      "metadata": {
        "id": "1mf8kuZkfCf4"
      },
      "outputs": [],
      "source": [
        "# Funkcja importująca zbiór danych i dodająca RoRy\n",
        "\n",
        "def import_explore(dataset):\n",
        "        series = read_csv(dataset)#, parse_dates=['date']), index_col='date')\n",
        "\n",
        "        series['RoR_date'] = (series.groupby('symbol')['adj_close_date'].apply(pd.Series.pct_change) + 1)\n",
        "        series['RoR_mtd'] = (series.groupby('symbol')['adj_close_mtd'].apply(pd.Series.pct_change) + 1)\n",
        "        series['RoR_qtd'] = (series.groupby('symbol')['adj_close_qtd'].apply(pd.Series.pct_change) + 1)\n",
        "        series['RoR_htd'] = (series.groupby('symbol')['adj_close_htd'].apply(pd.Series.pct_change) + 1)\n",
        "        series['RoR_ytd'] = (series.groupby('symbol')['adj_close_ytd'].apply(pd.Series.pct_change) + 1)\n",
        "\n",
        "        df = series.dropna()\n",
        "  \n",
        "        return(df)"
      ]
    },
    {
      "cell_type": "code",
      "execution_count": 3,
      "metadata": {
        "id": "nlOupw2hGcaR"
      },
      "outputs": [],
      "source": [
        "def getX(dataset, X_names):\n",
        "\n",
        "        X = pd.DataFrame(dataset[X_names])\n",
        "        scaler = MinMaxScaler(feature_range=(0, 1))\n",
        "        X = scaler.fit_transform(X)\n",
        "        return(X)\n",
        "\n",
        "\n",
        "def getY(dataset, Y_name):\n",
        "\n",
        "        Y = pd.DataFrame(dataset[Y_name]) \n",
        "        scaler = MinMaxScaler(feature_range=(0, 1))\n",
        "        Y = scaler.fit_transform(Y)\n",
        "        return(Y)\n",
        "\n",
        "#X = getX(df, X_col)\n",
        "#Wybór zmiennej objaśnianej (horyzontu czasowego analizy)\n",
        "#Y_name = Y_col[1]\n",
        "#Y = getY(df, Y_name)"
      ]
    },
    {
      "cell_type": "code",
      "execution_count": 4,
      "metadata": {
        "id": "xgrnFGMclqr6"
      },
      "outputs": [],
      "source": [
        "# Regresja liniowa wersja 1\n",
        "\n",
        "def linear_regression_1(X1, X2, y1, y2):\n",
        "        lineReg = LinearRegression()\n",
        "        lineReg.fit(X1, y1)\n",
        "        #print('Score: ', lineReg.score(X2, y2))\n",
        "        #print('Weights: ', lineReg.coef_)\n",
        "\n",
        "        Y_pred = lineReg.predict(X2)\n",
        "        rmse = np.sqrt(mean_squared_error(y2, Y_pred))\n",
        "        print(\"RMSE dla regresji liniowej 1: % f\" %(rmse))\n",
        "\n",
        "#linear_regression_1(X_train, X_test, y_train, y_test)"
      ]
    },
    {
      "cell_type": "code",
      "source": [
        "# Regresja liniowa wersja 2\n",
        "\n",
        "def linear_regression_2(X1, X2, y1, y2):\n",
        "        regr = linear_model.LinearRegression()\n",
        "        regr.fit(X1,y1)\n",
        "        Y_pred = regr.predict(X2)\n",
        "        rmse = np.sqrt(mean_squared_error(y2, Y_pred))\n",
        "        print(\"RMSE dla regresji liniowej 2: % f\" %(rmse))\n",
        "\n",
        "#linear_regression_2(X_train, X_test, y_train, y_test)"
      ],
      "metadata": {
        "id": "KU_Vi8oHC4VZ"
      },
      "execution_count": 5,
      "outputs": []
    },
    {
      "cell_type": "markdown",
      "source": [
        "Realizacja regresji liniowej nr 3."
      ],
      "metadata": {
        "id": "HHn_4DiAFhAl"
      }
    },
    {
      "cell_type": "code",
      "source": [
        "# Regresja liniowa wersja 3\n",
        "\n",
        "def linear_regression_3(X1, X2, y1, y2):\n",
        "          model = linear_model.LinearRegression()\n",
        "          X_train = pd.DataFrame(X1)\n",
        "          y_train = pd.DataFrame(y1)\n",
        "\n",
        "          model.fit(X_train, y_train)\n",
        "\n",
        "          Y_pred_train = model.predict(X_train)\n",
        "          \n",
        "          rmse = np.sqrt(mean_squared_error(y_train, Y_pred_train))\n",
        "          print(\"RMSE dla regresji 3 (zbiór uczący się): % f\" %(rmse))\n",
        "          \n",
        "          X_test = pd.DataFrame(X2)\n",
        "          Y_pred_test = model.predict(X_test)\n",
        "          rmse = np.sqrt(mean_squared_error(y2, Y_pred_test))\n",
        "          print(\"RMSE dla regresji 3 (zbiór testowy): % f\" %(rmse))\n",
        "          print(\"Wyniki walidacji krzyżowej dla regresji liniowej:\")\n",
        "          linear_scores = cross_validate(model, X, Y, scoring=\"neg_root_mean_squared_error\")\n",
        "          print(linear_scores)\n",
        "          for k, v in linear_scores.items():\n",
        "              print(k, v.mean())\n",
        "\n",
        "#linear_regression_3(X_train, X_test, y_train, y_test)"
      ],
      "metadata": {
        "id": "-vfEe1nC_Zgd"
      },
      "execution_count": 18,
      "outputs": []
    },
    {
      "cell_type": "code",
      "source": [
        "# Model XGBoosting\n",
        "\n",
        "def XGBmodel(X1, X2, y1, y2):\n",
        "\n",
        "          train_dmatrix = xg.DMatrix(data = X1, label = y1)\n",
        "          test_dmatrix = xg.DMatrix(data = X2, label = y2)\n",
        "\n",
        "          param = {\"booster\":\"gblinear\", \"objective\":\"reg:linear\"}\n",
        "            \n",
        "          xgb_r = xg.train(params = param, dtrain = train_dmatrix, num_boost_round = 10)\n",
        "          pred = xgb_r.predict(test_dmatrix)\n",
        "            \n",
        "          rmse = np.sqrt(mean_squared_error(y2, pred))\n",
        "          print(\"\")\n",
        "          print(\"RMSE dla XGBoosting: % f\" %(rmse))\n",
        "          print(\"Wyniki walidacji krzyżowej dla XGBoost:\")\n",
        "          data_dmatrix = xg.DMatrix(data=X_train, label=y_train)\n",
        "          xgb_cv = xg.cv(dtrain=data_dmatrix, params=param, nfold=5, metrics = 'rmse',seed=42) \n",
        "          print(xgb_cv[\"train-rmse-mean\"].mean())\n",
        "          print(\"\")\n",
        "\n",
        "#XGBmodel(X_train, X_test, y_train, y_test)"
      ],
      "metadata": {
        "id": "KkEwW_Sz5qmk"
      },
      "execution_count": 19,
      "outputs": []
    },
    {
      "cell_type": "code",
      "execution_count": 24,
      "metadata": {
        "id": "TKCIbvODoznV"
      },
      "outputs": [],
      "source": [
        "# Model LSTM\n",
        "\n",
        "def LSTMmodel(X1, X2, y1, y2):\n",
        "\n",
        "      model = Sequential()\n",
        "      model.add(LSTM(units=50,return_sequences=True,input_shape=(X1.shape[1], 1)))\n",
        "      model.add(Dropout(0.2))\n",
        "      model.add(LSTM(units=50,return_sequences=True))\n",
        "      model.add(Dropout(0.2))\n",
        "      model.add(LSTM(units=50,return_sequences=True))\n",
        "      model.add(Dropout(0.2))\n",
        "      model.add(LSTM(units=50))\n",
        "      model.add(Dropout(0.2))\n",
        "      model.add(Dense(units=1))\n",
        "      model.compile(optimizer='adam',loss='mean_squared_error')\n",
        "      model.fit(X1,y1,epochs=10,batch_size=32) # Przy testach 100 zmienić na 1\n",
        "      pred = model.predict(X2)\n",
        "      rmse = np.sqrt(mean_squared_error(y2, pred))\n",
        "      print(\"\")\n",
        "      print(\"RMSE dla LSTM: % f\" %(rmse))\n",
        "\n",
        "\n",
        "\n",
        "# LSTMmodel(X_train, X_test, y_train, y_test)\n"
      ]
    },
    {
      "cell_type": "code",
      "source": [
        "# Model LightGBM\n",
        "\n",
        "def LGBMmodel(X1, X2, y1, y2):\n",
        "      lgbm = lgb.LGBMRegressor()\n",
        "\n",
        "      lgbm.fit(X1, y1)\n",
        "      pred = lgbm.predict(X2)\n",
        "\n",
        "      rmse = np.sqrt(mean_squared_error(y2, pred))\n",
        "      print(\"RMSE dla LGBM: % f\" %(rmse))\n",
        "      print(\"\")\n",
        "      print(\"Wyniki walidacji krzyżowej dla LightGBM:\")\n",
        "      lgbm_scores = cross_validate(lgbm, X, Y, scoring=\"neg_root_mean_squared_error\")\n",
        "      print(lgbm_scores)\n",
        "      for k, v in lgbm_scores.items():\n",
        "          print(k, v.mean())\n",
        "\n",
        "#LGBMmodel(X_train, X_test, y_train, y_test)"
      ],
      "metadata": {
        "id": "S3A57UZP9DeS"
      },
      "execution_count": 25,
      "outputs": []
    },
    {
      "cell_type": "code",
      "source": [
        "# KOD - Komórka do uzyskania wyników (wcześniej zaimportuj biblioteki i wywołaj funkcje)\n",
        "\n",
        "#Funkcja 1\n",
        "data = 'convictions_returns.csv'\n",
        "df = import_explore(data)\n",
        "\n",
        "# Porządkowanie kolumn w zbiorze danych\n",
        "\n",
        "# Wektor nazw zmiennych objaśnianych Y\n",
        "Y_col = ['RoR_date','RoR_mtd','RoR_qtd','RoR_htd','RoR_ytd']\n",
        "# Wektor nazw kolumn do usunięcia\n",
        "Others = ['Unnamed: 0','symbol','sector','date']\n",
        "all_column = df.columns\n",
        "X_col = np.setdiff1d(all_column, Y_col)\n",
        "# Wektor nazw zmeinnych objaśniających X\n",
        "X_col = np.setdiff1d(X_col, Others)\n",
        "\n",
        "# Funkcja 2 i 3\n",
        "X = getX(df, X_col)\n",
        "#Wybór zmiennej objaśnianej (horyzontu czasowego analizy)\n",
        "check_list = ['RoR_date', 'RoR_mtd', 'RoR_qtd', 'Ror_htd', 'RoR_ytd']\n",
        "Y_name = input(\"Wprowadź interesujący cię zakres: RoR_date, RoR_mtd, RoR_qtd, Ror_htd, RoR_ytd \")\n",
        "while Y_name not in check_list:\n",
        "    Y_name = input(\"Wprowadź poprawny zakres: RoR_date, RoR_mtd, RoR_qtd, Ror_htd, RoR_ytd \")\n",
        "    if Y_name in check_list:\n",
        "        break\n",
        "Y = getY(df, Y_name)\n",
        "\n",
        "# Podział zbioru na uczący się i testowy\n",
        "X_train, X_test, y_train, y_test = train_test_split(X, Y, test_size=0.3, random_state = 23, shuffle = True)\n",
        "\n",
        "# Funkcja 4 \n",
        "linear_regression_3(X_train, X_test, y_train, y_test)\n",
        "# Funkcja 5\n",
        "XGBmodel(X_train, X_test, y_train, y_test)\n",
        "# Funkcja 6\n",
        "LSTMmodel(X_train, X_test, y_train, y_test)\n",
        "# Funkcja 7\n",
        "LGBMmodel(X_train, X_test, y_train, y_test)"
      ],
      "metadata": {
        "colab": {
          "base_uri": "https://localhost:8080/"
        },
        "id": "5rdO-l9z3rFP",
        "outputId": "02bb5595-00ae-4dfb-d005-113d1ff99d9a"
      },
      "execution_count": 26,
      "outputs": [
        {
          "output_type": "stream",
          "name": "stdout",
          "text": [
            "Wprowadź interesujący cię zakres: RoR_date, RoR_mtd, RoR_qtd, Ror_htd, RoR_ytd RoR_date\n",
            "RMSE dla regresji 3 (zbiór uczący się):  0.000001\n",
            "RMSE dla regresji 3 (zbiór testowy):  12.252320\n",
            "Wyniki walidacji krzyżowej dla regresji liniowej:\n",
            "{'fit_time': array([0.03953791, 0.03935933, 0.04288912, 0.0392015 , 0.03086805]), 'score_time': array([0.00364065, 0.0034678 , 0.00173903, 0.0033164 , 0.00102687]), 'test_score': array([-1.40275473e-02, -6.94631626e+02, -4.34117860e-04, -2.56224451e-04,\n",
            "       -5.41496560e-04])}\n",
            "fit_time 0.03837118148803711\n",
            "score_time 0.0026381492614746095\n",
            "test_score -138.9293770885286\n",
            "[08:39:46] WARNING: /workspace/src/objective/regression_obj.cu:152: reg:linear is now deprecated in favor of reg:squarederror.\n",
            "\n",
            "RMSE dla XGBoosting:  0.011644\n",
            "Wyniki walidacji krzyżowej dla XGBoost:\n",
            "[08:39:46] WARNING: /workspace/src/objective/regression_obj.cu:152: reg:linear is now deprecated in favor of reg:squarederror.\n",
            "[08:39:46] WARNING: /workspace/src/objective/regression_obj.cu:152: reg:linear is now deprecated in favor of reg:squarederror.\n",
            "[08:39:46] WARNING: /workspace/src/objective/regression_obj.cu:152: reg:linear is now deprecated in favor of reg:squarederror.\n",
            "[08:39:46] WARNING: /workspace/src/objective/regression_obj.cu:152: reg:linear is now deprecated in favor of reg:squarederror.\n",
            "[08:39:46] WARNING: /workspace/src/objective/regression_obj.cu:152: reg:linear is now deprecated in favor of reg:squarederror.\n",
            "0.00839818\n",
            "Epoch 1/10\n",
            "556/556 [==============================] - 38s 55ms/step - loss: 6.2808e-05\n",
            "Epoch 2/10\n",
            "556/556 [==============================] - 32s 57ms/step - loss: 5.8889e-05\n",
            "Epoch 3/10\n",
            "556/556 [==============================] - 31s 55ms/step - loss: 5.9157e-05\n",
            "Epoch 4/10\n",
            "556/556 [==============================] - 31s 56ms/step - loss: 5.8129e-05\n",
            "Epoch 5/10\n",
            "556/556 [==============================] - 31s 56ms/step - loss: 5.7979e-05\n",
            "Epoch 6/10\n",
            "556/556 [==============================] - 31s 56ms/step - loss: 5.6450e-05\n",
            "Epoch 7/10\n",
            "556/556 [==============================] - 31s 56ms/step - loss: 5.9611e-05\n",
            "Epoch 8/10\n",
            "556/556 [==============================] - 31s 55ms/step - loss: 5.7318e-05\n",
            "Epoch 9/10\n",
            "556/556 [==============================] - 31s 55ms/step - loss: 5.7336e-05\n",
            "Epoch 10/10\n",
            "556/556 [==============================] - 31s 55ms/step - loss: 5.7197e-05\n",
            "\n",
            "RMSE dla LSTM:  0.000015\n"
          ]
        },
        {
          "output_type": "stream",
          "name": "stderr",
          "text": [
            "/usr/local/lib/python3.7/dist-packages/sklearn/utils/validation.py:993: DataConversionWarning: A column-vector y was passed when a 1d array was expected. Please change the shape of y to (n_samples, ), for example using ravel().\n",
            "  y = column_or_1d(y, warn=True)\n"
          ]
        },
        {
          "output_type": "stream",
          "name": "stdout",
          "text": [
            "RMSE dla LGBM:  0.001858\n",
            "\n",
            "Wyniki walidacji krzyżowej dla LightGBM:\n"
          ]
        },
        {
          "output_type": "stream",
          "name": "stderr",
          "text": [
            "/usr/local/lib/python3.7/dist-packages/sklearn/utils/validation.py:993: DataConversionWarning: A column-vector y was passed when a 1d array was expected. Please change the shape of y to (n_samples, ), for example using ravel().\n",
            "  y = column_or_1d(y, warn=True)\n",
            "/usr/local/lib/python3.7/dist-packages/sklearn/utils/validation.py:993: DataConversionWarning: A column-vector y was passed when a 1d array was expected. Please change the shape of y to (n_samples, ), for example using ravel().\n",
            "  y = column_or_1d(y, warn=True)\n",
            "/usr/local/lib/python3.7/dist-packages/sklearn/utils/validation.py:993: DataConversionWarning: A column-vector y was passed when a 1d array was expected. Please change the shape of y to (n_samples, ), for example using ravel().\n",
            "  y = column_or_1d(y, warn=True)\n",
            "/usr/local/lib/python3.7/dist-packages/sklearn/utils/validation.py:993: DataConversionWarning: A column-vector y was passed when a 1d array was expected. Please change the shape of y to (n_samples, ), for example using ravel().\n",
            "  y = column_or_1d(y, warn=True)\n",
            "/usr/local/lib/python3.7/dist-packages/sklearn/utils/validation.py:993: DataConversionWarning: A column-vector y was passed when a 1d array was expected. Please change the shape of y to (n_samples, ), for example using ravel().\n",
            "  y = column_or_1d(y, warn=True)\n"
          ]
        },
        {
          "output_type": "stream",
          "name": "stdout",
          "text": [
            "{'fit_time': array([0.54071903, 0.48717856, 0.47906947, 0.48863482, 0.50483656]), 'score_time': array([0.01888895, 0.0226841 , 0.02099633, 0.02407479, 0.02383637]), 'test_score': array([-0.01402737, -0.00499144, -0.00305038, -0.00084454, -0.000937  ])}\n",
            "fit_time 0.5000876903533935\n",
            "score_time 0.02209610939025879\n",
            "test_score -0.0047701467129431805\n"
          ]
        }
      ]
    }
  ],
  "metadata": {
    "colab": {
      "name": "Advanced modelling.ipynb",
      "provenance": [],
      "collapsed_sections": []
    },
    "kernelspec": {
      "display_name": "Python 3",
      "name": "python3"
    },
    "language_info": {
      "name": "python"
    }
  },
  "nbformat": 4,
  "nbformat_minor": 0
}