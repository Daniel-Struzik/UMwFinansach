{
  "cells": [
    {
      "cell_type": "markdown",
      "metadata": {
        "id": "6otN3y5wd5Ll"
      },
      "source": [
        "Develop,train,test and cross-validate three alternative models"
      ]
    },
    {
      "cell_type": "code",
      "execution_count": null,
      "metadata": {
        "cellView": "form",
        "id": "Mov_HPigdwDK"
      },
      "outputs": [],
      "source": [
        ""
      ]
    },
    {
      "cell_type": "code",
      "execution_count": null,
      "metadata": {
        "cellView": "form",
        "id": "E82_tS5700PV"
      },
      "outputs": [],
      "source": [
        ""
      ]
    },
    {
      "cell_type": "code",
      "execution_count": null,
      "metadata": {
        "id": "1mf8kuZkfCf4"
      },
      "outputs": [],
      "source": [
        "from pandas import read_csv\n",
        "from matplotlib import pyplot\n",
        "series = read_csv('convictions_returns.csv')#, parse_dates=['date']), index_col='date')\n",
        "\n",
        "series['RoR_date'] = (series.groupby('symbol')['adj_close_date'].apply(pd.Series.pct_change) + 1)\n",
        "series['RoR_mtd'] = (series.groupby('symbol')['adj_close_mtd'].apply(pd.Series.pct_change) + 1)\n",
        "series['RoR_qtd'] = (series.groupby('symbol')['adj_close_qtd'].apply(pd.Series.pct_change) + 1)\n",
        "series['RoR_htd'] = (series.groupby('symbol')['adj_close_htd'].apply(pd.Series.pct_change) + 1)\n",
        "series['RoR_ytd'] = (series.groupby('symbol')['adj_close_ytd'].apply(pd.Series.pct_change) + 1)"
      ]
    },
    {
      "cell_type": "code",
      "execution_count": null,
      "metadata": {
        "id": "-yO-fB661ti5"
      },
      "outputs": [],
      "source": [
        "#series_plot = series.groupby('symbol')\n",
        "#series_plot['adj_close_ytd'].plot()\n",
        "#series.tail(50)\n",
        "\n",
        "df = series.dropna()\n",
        "df"
      ]
    },
    {
      "cell_type": "markdown",
      "source": [
        "Podział zbioru danych na wektor ze zmiennymi objaśnianymi i wektor ze zmiennymi objaśniającymi. Najpierw wyszczególniamy kolumny , które weźmiemy opd uwagę w dalszym badaniu."
      ],
      "metadata": {
        "id": "vBVHgcgzExMF"
      }
    },
    {
      "cell_type": "code",
      "execution_count": null,
      "metadata": {
        "id": "xmJNRYld-FiI"
      },
      "outputs": [],
      "source": [
        "# Dividing data into Y and X\n",
        "# Set Target Variable\n",
        "#Y_col = ['adj_close_date','adj_close_mtd','adj_close_qtd','adj_close_htd','adj_close_ytd']\n",
        "Y_col = ['RoR_date','RoR_mtd','RoR_qtd','RoR_htd','RoR_ytd']\n",
        "Others = ['Unnamed: 0','symbol','sector','date']\n",
        "all_column = series.columns\n",
        "X_col = numpy.setdiff1d(all_column, Y_col)\n",
        "X_col = numpy.setdiff1d(X_col, Others)\n"
      ]
    },
    {
      "cell_type": "markdown",
      "source": [
        "Następnie dzielimy zbiór danych na potrzebne części.\n",
        "https://machinelearningmastery.com/time-series-prediction-lstm-recurrent-neural-networks-python-keras/"
      ],
      "metadata": {
        "id": "sbtF1hoZFF1k"
      }
    },
    {
      "cell_type": "code",
      "execution_count": null,
      "metadata": {
        "id": "nlOupw2hGcaR"
      },
      "outputs": [],
      "source": [
        "Y_name = 'RoR_mtd'\n",
        "\n",
        "#df=series\n",
        "Y = pd.DataFrame(df[Y_name])\n",
        "X = pd.DataFrame(df[X_col])\n",
        "\n",
        "# normalize the dataset\n",
        "scaler = MinMaxScaler(feature_range=(0, 1))\n",
        "Y = scaler.fit_transform(Y)\n",
        "X = scaler.fit_transform(X)\n"
      ]
    },
    {
      "cell_type": "code",
      "execution_count": null,
      "metadata": {
        "id": "IRM2A8Qz2qKJ"
      },
      "outputs": [],
      "source": [
        "#Splitting to Training set and Test set\n",
        "# timesplit= TimeSeriesSplit(n_splits=10)\n",
        "# for train_index, test_index in timesplit.split(X):\n",
        "#        X_train, X_test = X[:len(train_index)], X[len(train_index): (len(train_index)+len(test_index))]\n",
        "#        y_train, y_test = Y[:len(train_index)].values.ravel(), Y[len(train_index): (len(train_index)+len(test_index))].values.ravel()"
      ]
    },
    {
      "cell_type": "markdown",
      "source": [
        "Poniżej realizujemy podział zbiorów na uczące i testowe."
      ],
      "metadata": {
        "id": "n9cYPbK8FK1B"
      }
    },
    {
      "cell_type": "code",
      "execution_count": null,
      "metadata": {
        "id": "7I70PH28aIC0"
      },
      "outputs": [],
      "source": [
        "from sklearn.model_selection import train_test_split\n",
        "X_train, X_test, y_train, y_test = train_test_split(X, Y, test_size=0.3, random_state = 23, shuffle = True)"
      ]
    },
    {
      "cell_type": "markdown",
      "source": [
        "Realizacja regresji liniowej nr 1."
      ],
      "metadata": {
        "id": "Mr29UHGnFO6w"
      }
    },
    {
      "cell_type": "code",
      "execution_count": null,
      "metadata": {
        "colab": {
          "base_uri": "https://localhost:8080/",
          "height": 378
        },
        "id": "xgrnFGMclqr6",
        "outputId": "e1bc98ab-a0ba-45cc-9bec-c78b5923976d"
      },
      "outputs": [
        {
          "output_type": "stream",
          "name": "stdout",
          "text": [
            "Score:  -9.936589907465027\n",
            "Weights:  [[-2.33412658e+20  4.69463587e+20  8.00271653e+19 -2.86242187e+23\n",
            "   1.89697867e+18 -2.14520303e+21  1.87324963e+20 -1.32807751e+22\n",
            "   1.73063937e+20 -2.92980351e+20 -1.50646915e+19  1.48734425e+19\n",
            "   9.26826702e+21  8.83565057e+19 -1.47322968e+23  1.94458002e+22\n",
            "   1.21189611e+22 -3.68342768e+14  0.00000000e+00 -6.15174615e+21]]\n"
          ]
        },
        {
          "output_type": "display_data",
          "data": {
            "text/plain": [
              "<Figure size 432x288 with 1 Axes>"
            ],
            "image/png": "[encoded data removed]"
          },
          "metadata": {
            "needs_background": "light"
          }
        }
      ],
      "source": [
        "from sklearn.linear_model import LinearRegression\n",
        "\n",
        "lineReg = LinearRegression()\n",
        "lineReg.fit(X_train, y_train)\n",
        "print('Score: ', lineReg.score(X_test, y_test))\n",
        "print('Weights: ', lineReg.coef_)\n",
        "\n",
        "plt.plot(lineReg.predict(X_test))\n",
        "plt.plot(y_test)\n",
        "plt.show()"
      ]
    },
    {
      "cell_type": "markdown",
      "source": [
        "Realizacja regresji liniowej nr 2."
      ],
      "metadata": {
        "id": "vnBZKbMVFeSZ"
      }
    },
    {
      "cell_type": "code",
      "source": [
        "# Import the required libraries:\n",
        "import pandas as pd\n",
        "import numpy as np\n",
        "import matplotlib.pyplot as plt\n",
        "from sklearn import linear_model\n",
        "\n",
        "# Dividing data into Y and X\n",
        "# Set Target Variable\n",
        "Y_col = ['adj_close_date','adj_close_mtd','adj_close_qtd','adj_close_htd','adj_close_ytd']\n",
        "Others = ['Unnamed: 0','symbol','sector','date']\n",
        "all_column = series.columns\n",
        "X_col = numpy.setdiff1d(all_column, Y_col)\n",
        "X_col = numpy.setdiff1d(X_col, Others)\n",
        "\n",
        "data = df\n",
        "# Consider features we want to work on:\n",
        "X = data[X_col]\n",
        "Y = data['adj_close_date']\n",
        "# Generating training and testing data from our data:\n",
        "# We are using 80% data for training.\n",
        "train = data[:(int((len(data)*0.8)))]\n",
        "test = data[(int((len(data)*0.8))):]\n",
        "#Modeling:\n",
        "#Using sklearn package to model data :\n",
        "regr = linear_model.LinearRegression()\n",
        "train_x = np.array(train[X_col])\n",
        "train_y = np.array(train[Y_col])\n",
        "\n",
        "\n",
        "regr.fit(train_x,train_y)\n",
        "test_x = np.array(test[X_col])\n",
        "test_y = np.array(test[Y_col])\n",
        "# print the coefficient values:\n",
        "#coeff_data = pd.DataFrame(regr.coef_ , X.columns , columns=['Coefficients'])\n",
        "#coeff_data\n",
        "#Now let’s do prediction of data:\n",
        "Y_pred = regr.predict(test_x)\n",
        "# Check accuracy:\n",
        "from sklearn.metrics import r2_score\n",
        "R = r2_score(test_y , Y_pred)\n",
        "print ('R²:',R)\n"
      ],
      "metadata": {
        "colab": {
          "base_uri": "https://localhost:8080/"
        },
        "id": "KU_Vi8oHC4VZ",
        "outputId": "54075683-7ab0-4848-c2ac-c9e043c8350a"
      },
      "execution_count": null,
      "outputs": [
        {
          "output_type": "stream",
          "name": "stdout",
          "text": [
            "R²: -1.831762022218026e+43\n"
          ]
        }
      ]
    },
    {
      "cell_type": "markdown",
      "source": [
        "Realizacja regresji liniowej nr 3."
      ],
      "metadata": {
        "id": "HHn_4DiAFhAl"
      }
    },
    {
      "cell_type": "code",
      "source": [
        "from sklearn import linear_model\n",
        "from sklearn.metrics import mean_squared_error, r2_score\n",
        "\n",
        "model = linear_model.LinearRegression()\n",
        "X_train = pd.DataFrame(X_train)\n",
        "y_train = pd.DataFrame(y_train)\n",
        "\n",
        "model.fit(X_train, y_train)\n",
        "\n",
        "Y_pred_train = model.predict(X_train)\n",
        "print('Coefficients:', model.coef_)\n",
        "print('Intercept:', model.intercept_)\n",
        "print('Mean squared error (MSE): %.2f'\n",
        "      % mean_squared_error(y_train, Y_pred_train))\n",
        "print('Coefficient of determination (R^2): %.2f'\n",
        "      % r2_score(y_train, Y_pred_train))\n",
        "\n",
        "X_test = pd.DataFrame(X_test)\n",
        "Y_pred_test = model.predict(X_test)\n",
        "print('Coefficients:', model.coef_)\n",
        "print('Intercept:', model.intercept_)\n",
        "print('Mean squared error (MSE): %.2f'\n",
        "      % mean_squared_error(y_test, Y_pred_test))\n",
        "print('Coefficient of determination (R^2): %.2f'\n",
        "      % r2_score(y_test, Y_pred_test))"
      ],
      "metadata": {
        "colab": {
          "base_uri": "https://localhost:8080/"
        },
        "id": "-vfEe1nC_Zgd",
        "outputId": "b5915e01-6824-433b-b577-a3c465600d8b"
      },
      "execution_count": null,
      "outputs": [
        {
          "output_type": "stream",
          "name": "stdout",
          "text": [
            "Coefficients: [[-2.33412658e+20  4.69463587e+20  8.00271653e+19 -2.86242187e+23\n",
            "   1.89697867e+18 -2.14520303e+21  1.87324963e+20 -1.32807751e+22\n",
            "   1.73063937e+20 -2.92980351e+20 -1.50646915e+19  1.48734425e+19\n",
            "   9.26826702e+21  8.83565057e+19 -1.47322968e+23  1.94458002e+22\n",
            "   1.21189611e+22 -3.68342768e+14  0.00000000e+00 -6.15174615e+21]]\n",
            "Intercept: [3.41705256e+23]\n",
            "Mean squared error (MSE): 131181326637659779318769931675649179699317342994432.00\n",
            "Coefficient of determination (R^2): 0.00\n",
            "Coefficients: [[-2.33412658e+20  4.69463587e+20  8.00271653e+19 -2.86242187e+23\n",
            "   1.89697867e+18 -2.14520303e+21  1.87324963e+20 -1.32807751e+22\n",
            "   1.73063937e+20 -2.92980351e+20 -1.50646915e+19  1.48734425e+19\n",
            "   9.26826702e+21  8.83565057e+19 -1.47322968e+23  1.94458002e+22\n",
            "   1.21189611e+22 -3.68342768e+14  0.00000000e+00 -6.15174615e+21]]\n",
            "Intercept: [3.41705256e+23]\n",
            "Mean squared error (MSE): 117077212287958047483245705424865746479745073152.00\n",
            "Coefficient of determination (R^2): -9.94\n"
          ]
        }
      ]
    },
    {
      "cell_type": "markdown",
      "source": [
        "Realizacja XGBoosting."
      ],
      "metadata": {
        "id": "dbmRNv3DFnAB"
      }
    },
    {
      "cell_type": "code",
      "source": [
        "# Necessary imports\n",
        "import numpy as np\n",
        "import pandas as pd\n",
        "import xgboost as xg\n",
        "from sklearn.model_selection import train_test_split\n",
        "from sklearn.metrics import mean_squared_error as MSE\n",
        "  \n",
        "# Train and test set are converted to DMatrix objects,\n",
        "# as it is required by learning API.\n",
        "train_dmatrix = xg.DMatrix(data = X_train, label = y_train)\n",
        "test_dmatrix = xg.DMatrix(data = X_test, label = y_test)\n",
        "  \n",
        "# Parameter dictionary specifying base learner\n",
        "param = {\"booster\":\"gblinear\", \"objective\":\"reg:linear\"}\n",
        "  \n",
        "xgb_r = xg.train(params = param, dtrain = train_dmatrix, num_boost_round = 10)\n",
        "pred = xgb_r.predict(test_dmatrix)\n",
        "  \n",
        "# RMSE Computation\n",
        "rmse = np.sqrt(MSE(y_test, pred))\n",
        "print(\"RMSE : % f\" %(rmse))\n",
        "print('Coefficient of determination (R^2): %.2f'\n",
        "      % r2_score(y_test, pred))"
      ],
      "metadata": {
        "colab": {
          "base_uri": "https://localhost:8080/"
        },
        "id": "KkEwW_Sz5qmk",
        "outputId": "ea3ceb04-1708-4a3a-cc39-720b0868fdd8"
      },
      "execution_count": null,
      "outputs": [
        {
          "output_type": "stream",
          "name": "stdout",
          "text": [
            "[18:47:13] WARNING: /workspace/src/objective/regression_obj.cu:152: reg:linear is now deprecated in favor of reg:squarederror.\n",
            "RMSE :  0.002438\n",
            "Coefficient of determination (R^2): -53426760.21\n"
          ]
        }
      ]
    },
    {
      "cell_type": "markdown",
      "source": [
        "Realizacja LSTM."
      ],
      "metadata": {
        "id": "U0uuq56RFshU"
      }
    },
    {
      "cell_type": "code",
      "execution_count": null,
      "metadata": {
        "colab": {
          "background_save": true,
          "base_uri": "https://localhost:8080/"
        },
        "id": "TKCIbvODoznV",
        "outputId": "5f9838a6-9685-4223-fc8a-ad5fce2a51c3",
        "cellView": "form"
      },
      "outputs": [
        {
          "name": "stdout",
          "output_type": "stream",
          "text": [
            "Epoch 1/100\n",
            "582/582 [==============================] - 34s 45ms/step - loss: nan\n",
            "Epoch 2/100\n",
            "582/582 [==============================] - 26s 45ms/step - loss: nan\n",
            "Epoch 3/100\n",
            "582/582 [==============================] - 26s 45ms/step - loss: nan\n",
            "Epoch 4/100\n",
            "582/582 [==============================] - 27s 47ms/step - loss: nan\n",
            "Epoch 5/100\n",
            "582/582 [==============================] - 26s 45ms/step - loss: nan\n",
            "Epoch 6/100\n",
            "582/582 [==============================] - 26s 45ms/step - loss: nan\n",
            "Epoch 7/100\n",
            "582/582 [==============================] - 27s 46ms/step - loss: nan\n",
            "Epoch 8/100\n",
            "582/582 [==============================] - 28s 48ms/step - loss: nan\n",
            "Epoch 9/100\n",
            "582/582 [==============================] - 27s 46ms/step - loss: nan\n",
            "Epoch 10/100\n",
            "582/582 [==============================] - 27s 46ms/step - loss: nan\n",
            "Epoch 11/100\n",
            "582/582 [==============================] - 28s 47ms/step - loss: nan\n",
            "Epoch 12/100\n",
            "582/582 [==============================] - 28s 47ms/step - loss: nan\n",
            "Epoch 13/100\n",
            "582/582 [==============================] - 27s 46ms/step - loss: nan\n",
            "Epoch 14/100\n",
            "582/582 [==============================] - 26s 45ms/step - loss: nan\n",
            "Epoch 15/100\n",
            "582/582 [==============================] - 26s 45ms/step - loss: nan\n",
            "Epoch 16/100\n",
            "582/582 [==============================] - 27s 46ms/step - loss: nan\n",
            "Epoch 17/100\n",
            "582/582 [==============================] - 26s 45ms/step - loss: nan\n",
            "Epoch 18/100\n",
            "582/582 [==============================] - 26s 45ms/step - loss: nan\n",
            "Epoch 19/100\n",
            "582/582 [==============================] - 26s 45ms/step - loss: nan\n",
            "Epoch 20/100\n",
            "582/582 [==============================] - 26s 44ms/step - loss: nan\n",
            "Epoch 21/100\n",
            "582/582 [==============================] - 26s 45ms/step - loss: nan\n",
            "Epoch 22/100\n",
            "582/582 [==============================] - 26s 44ms/step - loss: nan\n",
            "Epoch 23/100\n",
            "582/582 [==============================] - 26s 45ms/step - loss: nan\n",
            "Epoch 24/100\n",
            "582/582 [==============================] - 27s 46ms/step - loss: nan\n",
            "Epoch 25/100\n",
            "582/582 [==============================] - 26s 45ms/step - loss: nan\n",
            "Epoch 26/100\n",
            "582/582 [==============================] - 26s 45ms/step - loss: nan\n",
            "Epoch 27/100\n",
            "582/582 [==============================] - 26s 45ms/step - loss: nan\n",
            "Epoch 28/100\n",
            "582/582 [==============================] - 26s 45ms/step - loss: nan\n",
            "Epoch 29/100\n",
            "582/582 [==============================] - 26s 44ms/step - loss: nan\n",
            "Epoch 30/100\n",
            "582/582 [==============================] - 26s 44ms/step - loss: nan\n",
            "Epoch 31/100\n",
            "582/582 [==============================] - 26s 44ms/step - loss: nan\n",
            "Epoch 32/100\n",
            "582/582 [==============================] - 26s 45ms/step - loss: nan\n",
            "Epoch 33/100\n",
            "582/582 [==============================] - 26s 44ms/step - loss: nan\n",
            "Epoch 34/100\n",
            "582/582 [==============================] - 26s 44ms/step - loss: nan\n",
            "Epoch 35/100\n",
            "582/582 [==============================] - 25s 44ms/step - loss: nan\n",
            "Epoch 36/100\n",
            "582/582 [==============================] - 26s 44ms/step - loss: nan\n",
            "Epoch 37/100\n",
            "582/582 [==============================] - 26s 44ms/step - loss: nan\n",
            "Epoch 38/100\n",
            "582/582 [==============================] - 26s 44ms/step - loss: nan\n",
            "Epoch 39/100\n",
            "582/582 [==============================] - 26s 44ms/step - loss: nan\n",
            "Epoch 40/100\n",
            "582/582 [==============================] - 26s 44ms/step - loss: nan\n",
            "Epoch 41/100\n",
            "582/582 [==============================] - 25s 44ms/step - loss: nan\n",
            "Epoch 42/100\n",
            "582/582 [==============================] - 25s 43ms/step - loss: nan\n",
            "Epoch 43/100\n",
            "582/582 [==============================] - 25s 43ms/step - loss: nan\n",
            "Epoch 44/100\n",
            "582/582 [==============================] - 25s 43ms/step - loss: nan\n",
            "Epoch 45/100\n",
            "582/582 [==============================] - 25s 43ms/step - loss: nan\n",
            "Epoch 46/100\n",
            "582/582 [==============================] - 25s 43ms/step - loss: nan\n",
            "Epoch 47/100\n",
            "582/582 [==============================] - 25s 43ms/step - loss: nan\n",
            "Epoch 48/100\n",
            "582/582 [==============================] - 25s 43ms/step - loss: nan\n",
            "Epoch 49/100\n",
            "582/582 [==============================] - 25s 43ms/step - loss: nan\n",
            "Epoch 50/100\n",
            "582/582 [==============================] - 25s 43ms/step - loss: nan\n",
            "Epoch 51/100\n",
            "582/582 [==============================] - 25s 42ms/step - loss: nan\n",
            "Epoch 52/100\n",
            "582/582 [==============================] - 25s 43ms/step - loss: nan\n",
            "Epoch 53/100\n",
            "582/582 [==============================] - 26s 44ms/step - loss: nan\n",
            "Epoch 54/100\n",
            "582/582 [==============================] - 25s 43ms/step - loss: nan\n",
            "Epoch 55/100\n",
            "582/582 [==============================] - 25s 43ms/step - loss: nan\n",
            "Epoch 56/100\n",
            "582/582 [==============================] - 25s 43ms/step - loss: nan\n",
            "Epoch 57/100\n",
            "582/582 [==============================] - 25s 42ms/step - loss: nan\n",
            "Epoch 58/100\n",
            "582/582 [==============================] - 25s 42ms/step - loss: nan\n",
            "Epoch 59/100\n",
            "582/582 [==============================] - 25s 43ms/step - loss: nan\n",
            "Epoch 60/100\n",
            "582/582 [==============================] - 25s 44ms/step - loss: nan\n",
            "Epoch 61/100\n",
            "582/582 [==============================] - 27s 46ms/step - loss: nan\n",
            "Epoch 62/100\n",
            "582/582 [==============================] - 25s 43ms/step - loss: nan\n",
            "Epoch 63/100\n",
            "582/582 [==============================] - 25s 42ms/step - loss: nan\n",
            "Epoch 64/100\n",
            "582/582 [==============================] - 28s 48ms/step - loss: nan\n",
            "Epoch 65/100\n",
            "582/582 [==============================] - 28s 48ms/step - loss: nan\n",
            "Epoch 66/100\n",
            "582/582 [==============================] - 26s 46ms/step - loss: nan\n",
            "Epoch 67/100\n",
            "582/582 [==============================] - 25s 43ms/step - loss: nan\n",
            "Epoch 68/100\n",
            "582/582 [==============================] - 25s 43ms/step - loss: nan\n",
            "Epoch 69/100\n",
            "582/582 [==============================] - 25s 43ms/step - loss: nan\n",
            "Epoch 70/100\n",
            "582/582 [==============================] - 25s 42ms/step - loss: nan\n",
            "Epoch 71/100\n",
            "582/582 [==============================] - 25s 43ms/step - loss: nan\n",
            "Epoch 72/100\n",
            "582/582 [==============================] - 25s 44ms/step - loss: nan\n",
            "Epoch 73/100\n",
            "582/582 [==============================] - 26s 44ms/step - loss: nan\n",
            "Epoch 74/100\n",
            "582/582 [==============================] - 25s 44ms/step - loss: nan\n",
            "Epoch 75/100\n",
            "582/582 [==============================] - 25s 43ms/step - loss: nan\n",
            "Epoch 76/100\n",
            "582/582 [==============================] - 25s 44ms/step - loss: nan\n",
            "Epoch 77/100\n",
            "582/582 [==============================] - 25s 44ms/step - loss: nan\n",
            "Epoch 78/100\n",
            "582/582 [==============================] - 26s 45ms/step - loss: nan\n",
            "Epoch 79/100\n",
            "582/582 [==============================] - 27s 46ms/step - loss: nan\n",
            "Epoch 80/100\n",
            "582/582 [==============================] - 27s 46ms/step - loss: nan\n",
            "Epoch 81/100\n",
            "582/582 [==============================] - 27s 46ms/step - loss: nan\n",
            "Epoch 82/100\n",
            "582/582 [==============================] - 26s 45ms/step - loss: nan\n",
            "Epoch 83/100\n",
            "582/582 [==============================] - 27s 46ms/step - loss: nan\n",
            "Epoch 84/100\n",
            "582/582 [==============================] - 26s 44ms/step - loss: nan\n",
            "Epoch 85/100\n",
            "582/582 [==============================] - 26s 45ms/step - loss: nan\n",
            "Epoch 86/100\n",
            "582/582 [==============================] - 26s 44ms/step - loss: nan\n",
            "Epoch 87/100\n",
            "582/582 [==============================] - 26s 45ms/step - loss: nan\n",
            "Epoch 88/100\n",
            "582/582 [==============================] - 25s 43ms/step - loss: nan\n",
            "Epoch 89/100\n",
            "582/582 [==============================] - 25s 43ms/step - loss: nan\n",
            "Epoch 90/100\n",
            "582/582 [==============================] - 25s 43ms/step - loss: nan\n",
            "Epoch 91/100\n",
            "582/582 [==============================] - 25s 44ms/step - loss: nan\n",
            "Epoch 92/100\n",
            "582/582 [==============================] - 25s 43ms/step - loss: nan\n",
            "Epoch 93/100\n",
            "582/582 [==============================] - 25s 43ms/step - loss: nan\n",
            "Epoch 94/100\n",
            "582/582 [==============================] - 25s 43ms/step - loss: nan\n",
            "Epoch 95/100\n",
            "582/582 [==============================] - 26s 44ms/step - loss: nan\n",
            "Epoch 96/100\n",
            "582/582 [==============================] - 26s 45ms/step - loss: nan\n",
            "Epoch 97/100\n",
            "582/582 [==============================] - 26s 44ms/step - loss: nan\n",
            "Epoch 98/100\n",
            "582/582 [==============================] - 26s 45ms/step - loss: nan\n",
            "Epoch 99/100\n",
            "582/582 [==============================] - 25s 43ms/step - loss: nan\n",
            "Epoch 100/100\n",
            "582/582 [==============================] - 25s 43ms/step - loss: nan\n"
          ]
        },
        {
          "data": {
            "text/plain": [
              "<keras.callbacks.History at 0x7f09eb6c2e50>"
            ]
          },
          "execution_count": null,
          "metadata": {},
          "output_type": "execute_result"
        }
      ],
      "source": [
        "#@title\n",
        "from keras.models import Sequential\n",
        "from keras.layers import LSTM\n",
        "from keras.layers import Dropout\n",
        "from keras.layers import Dense\n",
        "\n",
        "model = Sequential()\n",
        "model.add(LSTM(units=50,return_sequences=True,input_shape=(X_train.shape[1], 1)))\n",
        "model.add(Dropout(0.2))\n",
        "model.add(LSTM(units=50,return_sequences=True))\n",
        "model.add(Dropout(0.2))\n",
        "model.add(LSTM(units=50,return_sequences=True))\n",
        "model.add(Dropout(0.2))\n",
        "model.add(LSTM(units=50))\n",
        "model.add(Dropout(0.2))\n",
        "model.add(Dense(units=1))\n",
        "model.compile(optimizer='adam',loss='mean_squared_error')\n",
        "model.fit(X_train,y_train,epochs=100,batch_size=32)"
      ]
    },
    {
      "cell_type": "code",
      "source": [
        "# Building the model\n",
        "model = Sequential()\n",
        "# Adding a Bidirectional LSTM layer\n",
        "model.add(Bidirectional(LSTM(64,return_sequences=True, dropout=0.5, input_shape=(X_train.shape[1], X_train.shape[-1]))))\n",
        "model.add(Bidirectional(LSTM(20, dropout=0.5)))\n",
        "model.add(Dense(1))\n",
        "model.compile(loss='mse', optimizer='rmsprop')"
      ],
      "metadata": {
        "colab": {
          "base_uri": "https://localhost:8080/",
          "height": 232
        },
        "id": "_4ZnQfTiRnHs",
        "outputId": "94fcbe77-2924-4c2a-a8b3-61ba2ba0655d"
      },
      "execution_count": null,
      "outputs": [
        {
          "output_type": "error",
          "ename": "NameError",
          "evalue": "ignored",
          "traceback": [
            "\u001b[0;31m---------------------------------------------------------------------------\u001b[0m",
            "\u001b[0;31mNameError\u001b[0m                                 Traceback (most recent call last)",
            "\u001b[0;32m<ipython-input-42-1e56f5a18658>\u001b[0m in \u001b[0;36m<module>\u001b[0;34m()\u001b[0m\n\u001b[1;32m      2\u001b[0m \u001b[0mmodel\u001b[0m \u001b[0;34m=\u001b[0m \u001b[0mSequential\u001b[0m\u001b[0;34m(\u001b[0m\u001b[0;34m)\u001b[0m\u001b[0;34m\u001b[0m\u001b[0;34m\u001b[0m\u001b[0m\n\u001b[1;32m      3\u001b[0m \u001b[0;31m# Adding a Bidirectional LSTM layer\u001b[0m\u001b[0;34m\u001b[0m\u001b[0;34m\u001b[0m\u001b[0;34m\u001b[0m\u001b[0m\n\u001b[0;32m----> 4\u001b[0;31m \u001b[0mmodel\u001b[0m\u001b[0;34m.\u001b[0m\u001b[0madd\u001b[0m\u001b[0;34m(\u001b[0m\u001b[0mBidirectional\u001b[0m\u001b[0;34m(\u001b[0m\u001b[0mLSTM\u001b[0m\u001b[0;34m(\u001b[0m\u001b[0;36m64\u001b[0m\u001b[0;34m,\u001b[0m\u001b[0mreturn_sequences\u001b[0m\u001b[0;34m=\u001b[0m\u001b[0;32mTrue\u001b[0m\u001b[0;34m,\u001b[0m \u001b[0mdropout\u001b[0m\u001b[0;34m=\u001b[0m\u001b[0;36m0.5\u001b[0m\u001b[0;34m,\u001b[0m \u001b[0minput_shape\u001b[0m\u001b[0;34m=\u001b[0m\u001b[0;34m(\u001b[0m\u001b[0mX_train\u001b[0m\u001b[0;34m.\u001b[0m\u001b[0mshape\u001b[0m\u001b[0;34m[\u001b[0m\u001b[0;36m1\u001b[0m\u001b[0;34m]\u001b[0m\u001b[0;34m,\u001b[0m \u001b[0mX_train\u001b[0m\u001b[0;34m.\u001b[0m\u001b[0mshape\u001b[0m\u001b[0;34m[\u001b[0m\u001b[0;34m-\u001b[0m\u001b[0;36m1\u001b[0m\u001b[0;34m]\u001b[0m\u001b[0;34m)\u001b[0m\u001b[0;34m)\u001b[0m\u001b[0;34m)\u001b[0m\u001b[0;34m)\u001b[0m\u001b[0;34m\u001b[0m\u001b[0;34m\u001b[0m\u001b[0m\n\u001b[0m\u001b[1;32m      5\u001b[0m \u001b[0mmodel\u001b[0m\u001b[0;34m.\u001b[0m\u001b[0madd\u001b[0m\u001b[0;34m(\u001b[0m\u001b[0mBidirectional\u001b[0m\u001b[0;34m(\u001b[0m\u001b[0mLSTM\u001b[0m\u001b[0;34m(\u001b[0m\u001b[0;36m20\u001b[0m\u001b[0;34m,\u001b[0m \u001b[0mdropout\u001b[0m\u001b[0;34m=\u001b[0m\u001b[0;36m0.5\u001b[0m\u001b[0;34m)\u001b[0m\u001b[0;34m)\u001b[0m\u001b[0;34m)\u001b[0m\u001b[0;34m\u001b[0m\u001b[0;34m\u001b[0m\u001b[0m\n\u001b[1;32m      6\u001b[0m \u001b[0mmodel\u001b[0m\u001b[0;34m.\u001b[0m\u001b[0madd\u001b[0m\u001b[0;34m(\u001b[0m\u001b[0mDense\u001b[0m\u001b[0;34m(\u001b[0m\u001b[0;36m1\u001b[0m\u001b[0;34m)\u001b[0m\u001b[0;34m)\u001b[0m\u001b[0;34m\u001b[0m\u001b[0;34m\u001b[0m\u001b[0m\n",
            "\u001b[0;31mNameError\u001b[0m: name 'Bidirectional' is not defined"
          ]
        }
      ]
    },
    {
      "cell_type": "markdown",
      "source": [
        "Realizacja szeregu modeli"
      ],
      "metadata": {
        "id": "GD3O5SvZGmPx"
      }
    },
    {
      "cell_type": "code",
      "source": [
        "#@title\n",
        "# Load libraries\n",
        "from pandas import read_csv\n",
        "from pandas.plotting import scatter_matrix\n",
        "from matplotlib import pyplot\n",
        "from sklearn.model_selection import train_test_split\n",
        "from sklearn.model_selection import cross_val_score\n",
        "from sklearn.model_selection import StratifiedKFold\n",
        "from sklearn.metrics import classification_report\n",
        "from sklearn.metrics import confusion_matrix\n",
        "from sklearn.metrics import accuracy_score\n",
        "from sklearn.linear_model import LogisticRegression\n",
        "from sklearn.tree import DecisionTreeClassifier\n",
        "from sklearn.neighbors import KNeighborsClassifier\n",
        "from sklearn.discriminant_analysis import LinearDiscriminantAnalysis\n",
        "from sklearn.naive_bayes import GaussianNB\n",
        "from sklearn.svm import SVC\n",
        "\n",
        "# Spot Check Algorithms\n",
        "models = []\n",
        "models.append(('LR', LogisticRegression(solver='liblinear', multi_class='ovr')))\n",
        "models.append(('LDA', LinearDiscriminantAnalysis()))\n",
        "models.append(('KNN', KNeighborsClassifier()))\n",
        "models.append(('CART', DecisionTreeClassifier()))\n",
        "models.append(('NB', GaussianNB()))\n",
        "models.append(('SVM', SVC(gamma='auto')))\n",
        "# evaluate each model in turn\n",
        "results = []\n",
        "names = []\n",
        "for name, model in models:\n",
        "\tkfold = StratifiedKFold(n_splits=10, random_state=1, shuffle=True)\n",
        "\tcv_results = cross_val_score(model, X_train, y_train, cv=kfold, scoring='accuracy')\n",
        "\tresults.append(cv_results)\n",
        "\tnames.append(name)\n",
        "\tprint('%s: %f (%f)' % (name, cv_results.mean(), cv_results.std()))"
      ],
      "metadata": {
        "cellView": "form",
        "id": "JLeJImbCGqlk"
      },
      "execution_count": null,
      "outputs": []
    }
  ],
  "metadata": {
    "colab": {
      "name": "Advanced modelling.ipynb",
      "provenance": []
    },
    "kernelspec": {
      "display_name": "Python 3",
      "name": "python3"
    },
    "language_info": {
      "name": "python"
    }
  },
  "nbformat": 4,
  "nbformat_minor": 0
}